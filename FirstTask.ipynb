{
 "cells": [
  {
   "cell_type": "code",
   "id": "initial_id",
   "metadata": {
    "collapsed": true,
    "ExecuteTime": {
     "end_time": "2025-03-14T08:04:59.938787Z",
     "start_time": "2025-03-14T08:04:59.924734Z"
    }
   },
   "source": [
    "def exercise_1_1():\n",
    "    # Original loop\n",
    "    squares = []\n",
    "    for x in range(10):\n",
    "        squares.append(x ** 2)\n",
    "\n",
    "    # TODO: Convert to list comprehension\n",
    "    squares = [x ** 2 for x in range(10)]\n",
    "\n",
    "    return squares\n",
    "\n",
    "# Test Exercise 1.1\n",
    "print(\"Exercise 1.1 Results:\", exercise_1_1())"
   ],
   "outputs": [
    {
     "name": "stdout",
     "output_type": "stream",
     "text": [
      "Exercise 1.1 Results: [0, 1, 4, 9, 16, 25, 36, 49, 64, 81]\n"
     ]
    }
   ],
   "execution_count": 2
  },
  {
   "metadata": {
    "ExecuteTime": {
     "end_time": "2025-03-14T08:04:59.991630Z",
     "start_time": "2025-03-14T08:04:59.983917Z"
    }
   },
   "cell_type": "code",
   "source": [
    "def exercise_1_2(num):\n",
    "    # TODO: Complete this function\n",
    "    return num % 2 == 0\n",
    "\n",
    "# Test Exercise 1.2\n",
    "print(\"Exercise 1.2 (4):\", exercise_1_2(4), \"| Expected: True\")\n",
    "print(\"Exercise 1.2 (5):\", exercise_1_2(5), \"| Expected: False\")"
   ],
   "id": "fcbaf9dbd0446a9c",
   "outputs": [
    {
     "name": "stdout",
     "output_type": "stream",
     "text": [
      "Exercise 1.2 (4): True | Expected: True\n",
      "Exercise 1.2 (5): False | Expected: False\n"
     ]
    }
   ],
   "execution_count": 3
  },
  {
   "metadata": {
    "ExecuteTime": {
     "end_time": "2025-03-14T08:05:00.063628Z",
     "start_time": "2025-03-14T08:05:00.052539Z"
    }
   },
   "cell_type": "code",
   "source": [
    "import numpy as np\n",
    "\n",
    "def exercise_2_1():\n",
    "    # TODO: Create 3x3 zero matrix\n",
    "    zero_matrix = np.zeros((3, 3))\n",
    "    return zero_matrix\n",
    "\n",
    "# Test Exercise 2.1\n",
    "print(\"\\nExercise 2.1:\\n\", exercise_2_1())"
   ],
   "id": "318f8dd972b7a224",
   "outputs": [
    {
     "name": "stdout",
     "output_type": "stream",
     "text": [
      "\n",
      "Exercise 2.1:\n",
      " [[0. 0. 0.]\n",
      " [0. 0. 0.]\n",
      " [0. 0. 0.]]\n"
     ]
    }
   ],
   "execution_count": 4
  },
  {
   "metadata": {
    "ExecuteTime": {
     "end_time": "2025-03-14T08:05:00.203435Z",
     "start_time": "2025-03-14T08:05:00.128831Z"
    }
   },
   "cell_type": "code",
   "source": [
    "def exercise_2_2():\n",
    "    A = np.array([[1, 2], [3, 4]])\n",
    "    B = np.array([[5, 6], [7, 8]])\n",
    "\n",
    "    # TODO: Compute dot product\n",
    "    result = np.dot(A, B)\n",
    "    return result\n",
    "\n",
    "# Test Exercise 2.2\n",
    "print(\"\\nExercise 2.2:\\n\", exercise_2_2())"
   ],
   "id": "f7389d8085e735eb",
   "outputs": [
    {
     "name": "stdout",
     "output_type": "stream",
     "text": [
      "\n",
      "Exercise 2.2:\n",
      " [[19 22]\n",
      " [43 50]]\n"
     ]
    }
   ],
   "execution_count": 5
  },
  {
   "metadata": {
    "ExecuteTime": {
     "end_time": "2025-03-14T08:05:00.250576Z",
     "start_time": "2025-03-14T08:05:00.239885Z"
    }
   },
   "cell_type": "code",
   "source": [
    "def exercise_2_3():\n",
    "    arr = np.array([1, 2, 3, 4, 5, 6])\n",
    "\n",
    "    # TODO: Reshape to 2x3\n",
    "    reshaped = arr.reshape(2, 3)\n",
    "    return reshaped\n",
    "\n",
    "# Test Exercise 2.3\n",
    "print(\"\\nExercise 2.3:\\n\", exercise_2_3())"
   ],
   "id": "21cd8d491b7ceb7",
   "outputs": [
    {
     "name": "stdout",
     "output_type": "stream",
     "text": [
      "\n",
      "Exercise 2.3:\n",
      " [[1 2 3]\n",
      " [4 5 6]]\n"
     ]
    }
   ],
   "execution_count": 6
  },
  {
   "metadata": {
    "ExecuteTime": {
     "end_time": "2025-03-14T08:05:01.679210Z",
     "start_time": "2025-03-14T08:05:00.302944Z"
    }
   },
   "cell_type": "code",
   "source": [
    "import pandas as pd\n",
    "\n",
    "def exercise_3():\n",
    "    data = {\n",
    "        \"Name\": [\"Nika\", \"Lika\", \"Luka\"],\n",
    "        \"Age\": [20, 18, 19],\n",
    "        \"Score\": [85, 92, 88]\n",
    "    }\n",
    "\n",
    "    # TODO: Create DataFrame\n",
    "    df = pd.DataFrame(data)\n",
    "\n",
    "    # TODO: Filter scores > 85\n",
    "    high_scores = df[df[\"Score\"] > 85]\n",
    "\n",
    "    return df, high_scores\n",
    "\n",
    "# Test Exercise 3\n",
    "df, high_scores = exercise_3()\n",
    "print(\"\\nExercise 3.1:\\n\", df)\n",
    "print(\"\\nExercise 3.2:\\n\", high_scores)"
   ],
   "id": "7f149b245ee8f97d",
   "outputs": [
    {
     "name": "stdout",
     "output_type": "stream",
     "text": [
      "\n",
      "Exercise 3.1:\n",
      "    Name  Age  Score\n",
      "0  Nika   20     85\n",
      "1  Lika   18     92\n",
      "2  Luka   19     88\n",
      "\n",
      "Exercise 3.2:\n",
      "    Name  Age  Score\n",
      "1  Lika   18     92\n",
      "2  Luka   19     88\n"
     ]
    }
   ],
   "execution_count": 7
  },
  {
   "metadata": {
    "ExecuteTime": {
     "end_time": "2025-03-14T08:05:02.136244Z",
     "start_time": "2025-03-14T08:05:01.783380Z"
    }
   },
   "cell_type": "code",
   "source": [
    "import matplotlib.pyplot as plt\n",
    "\n",
    "\n",
    "def exercise_4():\n",
    "    x = np.linspace(-5, 5, 100)\n",
    "    y = x ** 2\n",
    "\n",
    "    # TODO: Create plot\n",
    "    plt.figure(figsize=(8, 6))\n",
    "    plt.plot(x, y, 'b-', linewidth=2)\n",
    "    plt.title('Plot of y = x²')\n",
    "    plt.xlabel('x')\n",
    "    plt.ylabel('y')\n",
    "    plt.grid(True)\n",
    "    plt.axhline(y=0, color='k', linestyle='-', alpha=0.3)\n",
    "    plt.axvline(x=0, color='k', linestyle='-', alpha=0.3)\n",
    "    plt.show()\n",
    "\n",
    "exercise_4()"
   ],
   "id": "fe6eb359f77b8ec6",
   "outputs": [
    {
     "data": {
      "text/plain": [
       "<Figure size 800x600 with 1 Axes>"
      ],
      "image/png": "[encoded data removed]"
     },
     "metadata": {},
     "output_type": "display_data"
    }
   ],
   "execution_count": 8
  },
  {
   "metadata": {
    "ExecuteTime": {
     "end_time": "2025-03-14T08:05:02.220802Z",
     "start_time": "2025-03-14T08:05:02.162801Z"
    }
   },
   "cell_type": "code",
   "source": [
    "import numpy as np\n",
    "\n",
    "# Exercise 5.1: Normalization\n",
    "# Apply min-max scaling to a NumPy array.\n",
    "def exercise_5_1():\n",
    "    data = np.array([10, 20, 30, 40, 50])\n",
    "\n",
    "    # Min-max scaling\n",
    "    normalized = (data - np.min(data)) / (np.max(data) - np.min(data))\n",
    "\n",
    "    return normalized\n",
    "\n",
    "# Test Exercise 5.1\n",
    "print(\"\\nExercise 5.1:\", exercise_5_1())\n"
   ],
   "id": "8d2aab15212a0abc",
   "outputs": [
    {
     "name": "stdout",
     "output_type": "stream",
     "text": [
      "\n",
      "Exercise 5.1: [0.   0.25 0.5  0.75 1.  ]\n"
     ]
    }
   ],
   "execution_count": 9
  }
 ],
 "metadata": {
  "kernelspec": {
   "display_name": "Python 3",
   "language": "python",
   "name": "python3"
  },
  "language_info": {
   "codemirror_mode": {
    "name": "ipython",
    "version": 2
   },
   "file_extension": ".py",
   "mimetype": "text/x-python",
   "name": "python",
   "nbconvert_exporter": "python",
   "pygments_lexer": "ipython2",
   "version": "2.7.6"
  }
 },
 "nbformat": 4,
 "nbformat_minor": 5
}
